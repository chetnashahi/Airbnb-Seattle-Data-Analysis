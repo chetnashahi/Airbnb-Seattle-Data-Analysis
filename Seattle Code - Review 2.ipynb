{
 "cells": [
  {
   "cell_type": "markdown",
   "metadata": {
    "_cell_guid": "b1076dfc-b9ad-4769-8c92-a6c4dae69d19",
    "_uuid": "8f2839f25d086af736a60e9eeb907d3b93b6e0e5",
    "execution": {
     "iopub.execute_input": "2021-08-05T19:45:08.98788Z",
     "iopub.status.busy": "2021-08-05T19:45:08.987508Z",
     "iopub.status.idle": "2021-08-05T19:45:09.001108Z",
     "shell.execute_reply": "2021-08-05T19:45:08.999904Z",
     "shell.execute_reply.started": "2021-08-05T19:45:08.987848Z"
    }
   },
   "source": [
    "# **AirBnB Seattle Data Analysis**"
   ]
  },
  {
   "cell_type": "markdown",
   "metadata": {},
   "source": [
    "We have the property listings of airbnb accommodations in Seattle. This project provides us with three datasets: Property Listings, Calendar & Reviews of Properties. I will be posting few business questions and will solve those questions with help of visualizations and data analysis. We will perform few data cleaning steps before proceeding.\n"
   ]
  },
  {
   "cell_type": "code",
   "execution_count": 144,
   "metadata": {
    "execution": {
     "iopub.execute_input": "2021-08-09T09:24:06.560352Z",
     "iopub.status.busy": "2021-08-09T09:24:06.559917Z",
     "iopub.status.idle": "2021-08-09T09:24:06.571313Z",
     "shell.execute_reply": "2021-08-09T09:24:06.570538Z",
     "shell.execute_reply.started": "2021-08-09T09:24:06.560317Z"
    }
   },
   "outputs": [
    {
     "name": "stdout",
     "output_type": "stream",
     "text": [
      "./Airbnb Datasets/calendar.csv\n",
      "./Airbnb Datasets/listings.csv\n",
      "./Airbnb Datasets/reviews.csv\n"
     ]
    }
   ],
   "source": [
    "import numpy as np # linear algebra\n",
    "import pandas as pd # data processing, CSV file I/O (e.g. pd.read_csv)\n",
    "import calendar\n",
    "import matplotlib.pyplot as plt\n",
    "import datetime\n",
    "import seaborn as sns\n",
    "import os\n",
    "for dirname, _, filenames in os.walk('./Airbnb Datasets/'):\n",
    "    for filename in filenames:\n",
    "        print(os.path.join(dirname, filename))"
   ]
  },
  {
   "cell_type": "markdown",
   "metadata": {},
   "source": [
    "**Steps to proceed further:**\n",
    "*  Clean dataset\n",
    "*  Solve few questions with visualizations\n",
    "*  Post the inferences wherever needed\n",
    "\n",
    "Our analysis is to understand factors that influences pricings, doing deeper analysis to understand how holidays/days of week impact pricing. Below are few questions that will be discussed further:\n",
    "\n",
    "* Q-1) Which category of property tends to have higher cost?\n",
    "* Q-2) What is the occupancy rate in 2016 across months?\n",
    "* Q-3) What factors is price dependent on?\n",
    "* Q-4) Which time has the highest price?\n",
    "* Q-5) How does price fluctuate from weekdays versus weekends?\n",
    "* Q-6) Which holiday has the highest price rate?\n",
    "\n",
    "\n"
   ]
  },
  {
   "cell_type": "markdown",
   "metadata": {},
   "source": [
    "**Gather Data**\n",
    "\n",
    "* df_calendar : Contains availability and pricings of all listings\n",
    "* df_listings : Contains property listing details including pricing and other attributes\n",
    "* df_reviews : Contains property reviews and ratings provided by customers during ther stay"
   ]
  },
  {
   "cell_type": "code",
   "execution_count": 145,
   "metadata": {
    "execution": {
     "iopub.execute_input": "2021-08-09T09:24:06.577684Z",
     "iopub.status.busy": "2021-08-09T09:24:06.577386Z",
     "iopub.status.idle": "2021-08-09T09:24:08.165846Z",
     "shell.execute_reply": "2021-08-09T09:24:08.164973Z",
     "shell.execute_reply.started": "2021-08-09T09:24:06.577656Z"
    }
   },
   "outputs": [],
   "source": [
    "df_calendar = pd.read_csv('./Airbnb Datasets/calendar.csv')\n",
    "df_listings = pd.read_csv('./Airbnb Datasets/listings.csv')\n",
    "df_reviews = pd.read_csv('./Airbnb Datasets/reviews.csv')"
   ]
  },
  {
   "cell_type": "code",
   "execution_count": 146,
   "metadata": {},
   "outputs": [
    {
     "data": {
      "text/plain": [
       "459028"
      ]
     },
     "execution_count": 146,
     "metadata": {},
     "output_type": "execute_result"
    }
   ],
   "source": [
    "len(df_calendar[df_calendar['price'].isna()==True])"
   ]
  },
  {
   "cell_type": "code",
   "execution_count": 147,
   "metadata": {},
   "outputs": [
    {
     "data": {
      "text/plain": [
       "1393570"
      ]
     },
     "execution_count": 147,
     "metadata": {},
     "output_type": "execute_result"
    }
   ],
   "source": [
    "len(df_calendar)"
   ]
  },
  {
   "cell_type": "code",
   "execution_count": 148,
   "metadata": {},
   "outputs": [
    {
     "data": {
      "text/plain": [
       "0.32938998399793334"
      ]
     },
     "execution_count": 148,
     "metadata": {},
     "output_type": "execute_result"
    }
   ],
   "source": [
    "len(df_calendar[df_calendar['price'].isna()==True])/len(df_calendar)"
   ]
  },
  {
   "cell_type": "markdown",
   "metadata": {},
   "source": [
    "**Data Understanding**\n",
    "\n",
    "We will deep dive into all three datasets to see the datatypes, missing values and columns available. This will help us in decinding how to handle missing values and convert datetimes format as per need."
   ]
  },
  {
   "cell_type": "code",
   "execution_count": 149,
   "metadata": {
    "execution": {
     "iopub.execute_input": "2021-08-09T09:24:08.168015Z",
     "iopub.status.busy": "2021-08-09T09:24:08.167618Z",
     "iopub.status.idle": "2021-08-09T09:24:08.215514Z",
     "shell.execute_reply": "2021-08-09T09:24:08.214394Z",
     "shell.execute_reply.started": "2021-08-09T09:24:08.167974Z"
    }
   },
   "outputs": [
    {
     "name": "stdout",
     "output_type": "stream",
     "text": [
      "<class 'pandas.core.frame.DataFrame'>\n",
      "RangeIndex: 3818 entries, 0 to 3817\n",
      "Data columns (total 92 columns):\n",
      " #   Column                            Non-Null Count  Dtype  \n",
      "---  ------                            --------------  -----  \n",
      " 0   id                                3818 non-null   int64  \n",
      " 1   listing_url                       3818 non-null   object \n",
      " 2   scrape_id                         3818 non-null   int64  \n",
      " 3   last_scraped                      3818 non-null   object \n",
      " 4   name                              3818 non-null   object \n",
      " 5   summary                           3641 non-null   object \n",
      " 6   space                             3249 non-null   object \n",
      " 7   description                       3818 non-null   object \n",
      " 8   experiences_offered               3818 non-null   object \n",
      " 9   neighborhood_overview             2786 non-null   object \n",
      " 10  notes                             2212 non-null   object \n",
      " 11  transit                           2884 non-null   object \n",
      " 12  thumbnail_url                     3498 non-null   object \n",
      " 13  medium_url                        3498 non-null   object \n",
      " 14  picture_url                       3818 non-null   object \n",
      " 15  xl_picture_url                    3498 non-null   object \n",
      " 16  host_id                           3818 non-null   int64  \n",
      " 17  host_url                          3818 non-null   object \n",
      " 18  host_name                         3816 non-null   object \n",
      " 19  host_since                        3816 non-null   object \n",
      " 20  host_location                     3810 non-null   object \n",
      " 21  host_about                        2959 non-null   object \n",
      " 22  host_response_time                3295 non-null   object \n",
      " 23  host_response_rate                3295 non-null   object \n",
      " 24  host_acceptance_rate              3045 non-null   object \n",
      " 25  host_is_superhost                 3816 non-null   object \n",
      " 26  host_thumbnail_url                3816 non-null   object \n",
      " 27  host_picture_url                  3816 non-null   object \n",
      " 28  host_neighbourhood                3518 non-null   object \n",
      " 29  host_listings_count               3816 non-null   float64\n",
      " 30  host_total_listings_count         3816 non-null   float64\n",
      " 31  host_verifications                3818 non-null   object \n",
      " 32  host_has_profile_pic              3816 non-null   object \n",
      " 33  host_identity_verified            3816 non-null   object \n",
      " 34  street                            3818 non-null   object \n",
      " 35  neighbourhood                     3402 non-null   object \n",
      " 36  neighbourhood_cleansed            3818 non-null   object \n",
      " 37  neighbourhood_group_cleansed      3818 non-null   object \n",
      " 38  city                              3818 non-null   object \n",
      " 39  state                             3818 non-null   object \n",
      " 40  zipcode                           3811 non-null   object \n",
      " 41  market                            3818 non-null   object \n",
      " 42  smart_location                    3818 non-null   object \n",
      " 43  country_code                      3818 non-null   object \n",
      " 44  country                           3818 non-null   object \n",
      " 45  latitude                          3818 non-null   float64\n",
      " 46  longitude                         3818 non-null   float64\n",
      " 47  is_location_exact                 3818 non-null   object \n",
      " 48  property_type                     3817 non-null   object \n",
      " 49  room_type                         3818 non-null   object \n",
      " 50  accommodates                      3818 non-null   int64  \n",
      " 51  bathrooms                         3802 non-null   float64\n",
      " 52  bedrooms                          3812 non-null   float64\n",
      " 53  beds                              3817 non-null   float64\n",
      " 54  bed_type                          3818 non-null   object \n",
      " 55  amenities                         3818 non-null   object \n",
      " 56  square_feet                       97 non-null     float64\n",
      " 57  price                             3818 non-null   object \n",
      " 58  weekly_price                      2009 non-null   object \n",
      " 59  monthly_price                     1517 non-null   object \n",
      " 60  security_deposit                  1866 non-null   object \n",
      " 61  cleaning_fee                      2788 non-null   object \n",
      " 62  guests_included                   3818 non-null   int64  \n",
      " 63  extra_people                      3818 non-null   object \n",
      " 64  minimum_nights                    3818 non-null   int64  \n",
      " 65  maximum_nights                    3818 non-null   int64  \n",
      " 66  calendar_updated                  3818 non-null   object \n",
      " 67  has_availability                  3818 non-null   object \n",
      " 68  availability_30                   3818 non-null   int64  \n",
      " 69  availability_60                   3818 non-null   int64  \n",
      " 70  availability_90                   3818 non-null   int64  \n",
      " 71  availability_365                  3818 non-null   int64  \n",
      " 72  calendar_last_scraped             3818 non-null   object \n",
      " 73  number_of_reviews                 3818 non-null   int64  \n",
      " 74  first_review                      3191 non-null   object \n",
      " 75  last_review                       3191 non-null   object \n",
      " 76  review_scores_rating              3171 non-null   float64\n",
      " 77  review_scores_accuracy            3160 non-null   float64\n",
      " 78  review_scores_cleanliness         3165 non-null   float64\n",
      " 79  review_scores_checkin             3160 non-null   float64\n",
      " 80  review_scores_communication       3167 non-null   float64\n",
      " 81  review_scores_location            3163 non-null   float64\n",
      " 82  review_scores_value               3162 non-null   float64\n",
      " 83  requires_license                  3818 non-null   object \n",
      " 84  license                           0 non-null      float64\n",
      " 85  jurisdiction_names                3818 non-null   object \n",
      " 86  instant_bookable                  3818 non-null   object \n",
      " 87  cancellation_policy               3818 non-null   object \n",
      " 88  require_guest_profile_picture     3818 non-null   object \n",
      " 89  require_guest_phone_verification  3818 non-null   object \n",
      " 90  calculated_host_listings_count    3818 non-null   int64  \n",
      " 91  reviews_per_month                 3191 non-null   float64\n",
      "dtypes: float64(17), int64(13), object(62)\n",
      "memory usage: 2.7+ MB\n"
     ]
    }
   ],
   "source": [
    "df_listings.info()"
   ]
  },
  {
   "cell_type": "code",
   "execution_count": 150,
   "metadata": {
    "execution": {
     "iopub.execute_input": "2021-08-09T09:24:08.217695Z",
     "iopub.status.busy": "2021-08-09T09:24:08.217405Z",
     "iopub.status.idle": "2021-08-09T09:24:08.265696Z",
     "shell.execute_reply": "2021-08-09T09:24:08.264646Z",
     "shell.execute_reply.started": "2021-08-09T09:24:08.217668Z"
    }
   },
   "outputs": [
    {
     "data": {
      "text/html": [
       "<div>\n",
       "<style scoped>\n",
       "    .dataframe tbody tr th:only-of-type {\n",
       "        vertical-align: middle;\n",
       "    }\n",
       "\n",
       "    .dataframe tbody tr th {\n",
       "        vertical-align: top;\n",
       "    }\n",
       "\n",
       "    .dataframe thead th {\n",
       "        text-align: right;\n",
       "    }\n",
       "</style>\n",
       "<table border=\"1\" class=\"dataframe\">\n",
       "  <thead>\n",
       "    <tr style=\"text-align: right;\">\n",
       "      <th></th>\n",
       "      <th>listing_id</th>\n",
       "    </tr>\n",
       "  </thead>\n",
       "  <tbody>\n",
       "    <tr>\n",
       "      <th>count</th>\n",
       "      <td>1.393570e+06</td>\n",
       "    </tr>\n",
       "    <tr>\n",
       "      <th>mean</th>\n",
       "      <td>5.550111e+06</td>\n",
       "    </tr>\n",
       "    <tr>\n",
       "      <th>std</th>\n",
       "      <td>2.962274e+06</td>\n",
       "    </tr>\n",
       "    <tr>\n",
       "      <th>min</th>\n",
       "      <td>3.335000e+03</td>\n",
       "    </tr>\n",
       "    <tr>\n",
       "      <th>25%</th>\n",
       "      <td>3.258213e+06</td>\n",
       "    </tr>\n",
       "    <tr>\n",
       "      <th>50%</th>\n",
       "      <td>6.118244e+06</td>\n",
       "    </tr>\n",
       "    <tr>\n",
       "      <th>75%</th>\n",
       "      <td>8.035212e+06</td>\n",
       "    </tr>\n",
       "    <tr>\n",
       "      <th>max</th>\n",
       "      <td>1.034016e+07</td>\n",
       "    </tr>\n",
       "  </tbody>\n",
       "</table>\n",
       "</div>"
      ],
      "text/plain": [
       "         listing_id\n",
       "count  1.393570e+06\n",
       "mean   5.550111e+06\n",
       "std    2.962274e+06\n",
       "min    3.335000e+03\n",
       "25%    3.258213e+06\n",
       "50%    6.118244e+06\n",
       "75%    8.035212e+06\n",
       "max    1.034016e+07"
      ]
     },
     "execution_count": 150,
     "metadata": {},
     "output_type": "execute_result"
    }
   ],
   "source": [
    "df_calendar.describe()"
   ]
  },
  {
   "cell_type": "code",
   "execution_count": 151,
   "metadata": {
    "execution": {
     "iopub.execute_input": "2021-08-09T09:24:08.267429Z",
     "iopub.status.busy": "2021-08-09T09:24:08.267133Z",
     "iopub.status.idle": "2021-08-09T09:24:08.278563Z",
     "shell.execute_reply": "2021-08-09T09:24:08.277504Z",
     "shell.execute_reply.started": "2021-08-09T09:24:08.267402Z"
    }
   },
   "outputs": [
    {
     "data": {
      "text/html": [
       "<div>\n",
       "<style scoped>\n",
       "    .dataframe tbody tr th:only-of-type {\n",
       "        vertical-align: middle;\n",
       "    }\n",
       "\n",
       "    .dataframe tbody tr th {\n",
       "        vertical-align: top;\n",
       "    }\n",
       "\n",
       "    .dataframe thead th {\n",
       "        text-align: right;\n",
       "    }\n",
       "</style>\n",
       "<table border=\"1\" class=\"dataframe\">\n",
       "  <thead>\n",
       "    <tr style=\"text-align: right;\">\n",
       "      <th></th>\n",
       "      <th>listing_id</th>\n",
       "      <th>date</th>\n",
       "      <th>available</th>\n",
       "      <th>price</th>\n",
       "    </tr>\n",
       "  </thead>\n",
       "  <tbody>\n",
       "    <tr>\n",
       "      <th>0</th>\n",
       "      <td>241032</td>\n",
       "      <td>2016-01-04</td>\n",
       "      <td>t</td>\n",
       "      <td>$85.00</td>\n",
       "    </tr>\n",
       "    <tr>\n",
       "      <th>1</th>\n",
       "      <td>241032</td>\n",
       "      <td>2016-01-05</td>\n",
       "      <td>t</td>\n",
       "      <td>$85.00</td>\n",
       "    </tr>\n",
       "    <tr>\n",
       "      <th>2</th>\n",
       "      <td>241032</td>\n",
       "      <td>2016-01-06</td>\n",
       "      <td>f</td>\n",
       "      <td>NaN</td>\n",
       "    </tr>\n",
       "    <tr>\n",
       "      <th>3</th>\n",
       "      <td>241032</td>\n",
       "      <td>2016-01-07</td>\n",
       "      <td>f</td>\n",
       "      <td>NaN</td>\n",
       "    </tr>\n",
       "    <tr>\n",
       "      <th>4</th>\n",
       "      <td>241032</td>\n",
       "      <td>2016-01-08</td>\n",
       "      <td>f</td>\n",
       "      <td>NaN</td>\n",
       "    </tr>\n",
       "  </tbody>\n",
       "</table>\n",
       "</div>"
      ],
      "text/plain": [
       "   listing_id        date available   price\n",
       "0      241032  2016-01-04         t  $85.00\n",
       "1      241032  2016-01-05         t  $85.00\n",
       "2      241032  2016-01-06         f     NaN\n",
       "3      241032  2016-01-07         f     NaN\n",
       "4      241032  2016-01-08         f     NaN"
      ]
     },
     "execution_count": 151,
     "metadata": {},
     "output_type": "execute_result"
    }
   ],
   "source": [
    "df_calendar.head()"
   ]
  },
  {
   "cell_type": "markdown",
   "metadata": {},
   "source": [
    "**Data Cleaning**\n",
    "\n",
    "In df_calendar, I have replaced all Nan with median values as the price ditribution is skewed and not symmetrical. We observed that the price columns have dollar prefixed to the values. We will replace that and make it numeric. \n",
    "\n",
    "We will also convert date column in df_Calendar to datetime format. Further to that, we will create a new column hich gives month and year of respective dates. We will then merge df_calendar and df_listings to do further analysis"
   ]
  },
  {
   "cell_type": "code",
   "execution_count": 152,
   "metadata": {
    "execution": {
     "iopub.execute_input": "2021-08-09T09:24:08.733998Z",
     "iopub.status.busy": "2021-08-09T09:24:08.733718Z",
     "iopub.status.idle": "2021-08-09T09:24:11.638757Z",
     "shell.execute_reply": "2021-08-09T09:24:11.637461Z",
     "shell.execute_reply.started": "2021-08-09T09:24:08.733970Z"
    }
   },
   "outputs": [],
   "source": [
    "#Clean the price column by removing $ and converting to float\n",
    "df_calendar['price']=df_calendar['price'].replace( '[\\$,)]','', regex=True ).astype(float).values\n",
    "df_listings['price']=df_listings['price'].replace( '[\\$,)]','', regex=True ).astype(float).values"
   ]
  },
  {
   "cell_type": "code",
   "execution_count": 153,
   "metadata": {
    "execution": {
     "iopub.execute_input": "2021-08-09T09:24:11.640407Z",
     "iopub.status.busy": "2021-08-09T09:24:11.640084Z",
     "iopub.status.idle": "2021-08-09T09:24:11.928957Z",
     "shell.execute_reply": "2021-08-09T09:24:11.927973Z",
     "shell.execute_reply.started": "2021-08-09T09:24:11.640374Z"
    }
   },
   "outputs": [
    {
     "name": "stdout",
     "output_type": "stream",
     "text": [
      "<class 'pandas.core.frame.DataFrame'>\n",
      "RangeIndex: 1393570 entries, 0 to 1393569\n",
      "Data columns (total 4 columns):\n",
      " #   Column      Non-Null Count    Dtype  \n",
      "---  ------      --------------    -----  \n",
      " 0   listing_id  1393570 non-null  int64  \n",
      " 1   date        1393570 non-null  object \n",
      " 2   available   1393570 non-null  object \n",
      " 3   price       934542 non-null   float64\n",
      "dtypes: float64(1), int64(1), object(2)\n",
      "memory usage: 42.5+ MB\n"
     ]
    }
   ],
   "source": [
    "df_calendar.info()"
   ]
  },
  {
   "cell_type": "markdown",
   "metadata": {},
   "source": [
    "Let's study the distribution of price data. This study will help us in determining which approach to take for filling missing values."
   ]
  },
  {
   "cell_type": "code",
   "execution_count": 154,
   "metadata": {},
   "outputs": [
    {
     "name": "stderr",
     "output_type": "stream",
     "text": [
      "C:\\Users\\meetp\\anaconda3\\lib\\site-packages\\seaborn\\distributions.py:2551: FutureWarning: `distplot` is a deprecated function and will be removed in a future version. Please adapt your code to use either `displot` (a figure-level function with similar flexibility) or `histplot` (an axes-level function for histograms).\n",
      "  warnings.warn(msg, FutureWarning)\n"
     ]
    },
    {
     "data": {
      "text/plain": [
       "Text(0.5, 1.0, 'Price distribution Plot')"
      ]
     },
     "execution_count": 154,
     "metadata": {},
     "output_type": "execute_result"
    },
    {
     "data": {
      "image/png": "[encoded data removed]",
      "text/plain": [
       "<Figure size 720x360 with 1 Axes>"
      ]
     },
     "metadata": {
      "needs_background": "light"
     },
     "output_type": "display_data"
    }
   ],
   "source": [
    "plt.figure(figsize=(10,5))\n",
    "x=pd.Series(df_calendar['price'], name = 'Price')\n",
    "sns.distplot(x,kde=True,label='Seattle')\n",
    "plt.title('Price distribution Plot',fontsize=25)"
   ]
  },
  {
   "cell_type": "markdown",
   "metadata": {},
   "source": [
    "We can clearly see that the graph is skewed. And whenever the graph is skewed its better to replace NaNs with median. Mean is mostly used when its a symmetrical distribution. Mode can also be used with skewed data."
   ]
  },
  {
   "cell_type": "code",
   "execution_count": 155,
   "metadata": {
    "execution": {
     "iopub.execute_input": "2021-08-09T09:24:11.931916Z",
     "iopub.status.busy": "2021-08-09T09:24:11.931607Z",
     "iopub.status.idle": "2021-08-09T09:24:12.373257Z",
     "shell.execute_reply": "2021-08-09T09:24:12.372183Z",
     "shell.execute_reply.started": "2021-08-09T09:24:11.931884Z"
    }
   },
   "outputs": [],
   "source": [
    "#Convert date column to datetime\n",
    "df_calendar['date']= pd.to_datetime(df_calendar['date'])"
   ]
  },
  {
   "cell_type": "code",
   "execution_count": 156,
   "metadata": {
    "execution": {
     "iopub.execute_input": "2021-08-09T09:24:12.375546Z",
     "iopub.status.busy": "2021-08-09T09:24:12.375237Z",
     "iopub.status.idle": "2021-08-09T09:24:22.670620Z",
     "shell.execute_reply": "2021-08-09T09:24:22.669546Z",
     "shell.execute_reply.started": "2021-08-09T09:24:12.375517Z"
    }
   },
   "outputs": [],
   "source": [
    "#Calculate year-month columns from date column\n",
    "df_calendar['date_year_month'] = df_calendar['date'].dt.strftime('%Y-%m')"
   ]
  },
  {
   "cell_type": "code",
   "execution_count": 157,
   "metadata": {
    "execution": {
     "iopub.execute_input": "2021-08-09T09:24:22.672405Z",
     "iopub.status.busy": "2021-08-09T09:24:22.672080Z",
     "iopub.status.idle": "2021-08-09T09:24:38.477164Z",
     "shell.execute_reply": "2021-08-09T09:24:38.476116Z",
     "shell.execute_reply.started": "2021-08-09T09:24:22.672374Z"
    }
   },
   "outputs": [],
   "source": [
    "#Merge Listings and Calendar files \n",
    "df_list_cal = pd.merge(df_calendar, df_listings, left_on = 'listing_id', right_on = 'id')"
   ]
  },
  {
   "cell_type": "code",
   "execution_count": 158,
   "metadata": {
    "execution": {
     "iopub.execute_input": "2021-08-09T09:24:38.479291Z",
     "iopub.status.busy": "2021-08-09T09:24:38.478678Z",
     "iopub.status.idle": "2021-08-09T09:24:38.489629Z",
     "shell.execute_reply": "2021-08-09T09:24:38.488473Z",
     "shell.execute_reply.started": "2021-08-09T09:24:38.479244Z"
    }
   },
   "outputs": [
    {
     "data": {
      "text/plain": [
       "Index(['listing_id', 'date', 'available', 'price_x', 'date_year_month', 'id',\n",
       "       'listing_url', 'scrape_id', 'last_scraped', 'name', 'summary', 'space',\n",
       "       'description', 'experiences_offered', 'neighborhood_overview', 'notes',\n",
       "       'transit', 'thumbnail_url', 'medium_url', 'picture_url',\n",
       "       'xl_picture_url', 'host_id', 'host_url', 'host_name', 'host_since',\n",
       "       'host_location', 'host_about', 'host_response_time',\n",
       "       'host_response_rate', 'host_acceptance_rate', 'host_is_superhost',\n",
       "       'host_thumbnail_url', 'host_picture_url', 'host_neighbourhood',\n",
       "       'host_listings_count', 'host_total_listings_count',\n",
       "       'host_verifications', 'host_has_profile_pic', 'host_identity_verified',\n",
       "       'street', 'neighbourhood', 'neighbourhood_cleansed',\n",
       "       'neighbourhood_group_cleansed', 'city', 'state', 'zipcode', 'market',\n",
       "       'smart_location', 'country_code', 'country', 'latitude', 'longitude',\n",
       "       'is_location_exact', 'property_type', 'room_type', 'accommodates',\n",
       "       'bathrooms', 'bedrooms', 'beds', 'bed_type', 'amenities', 'square_feet',\n",
       "       'price_y', 'weekly_price', 'monthly_price', 'security_deposit',\n",
       "       'cleaning_fee', 'guests_included', 'extra_people', 'minimum_nights',\n",
       "       'maximum_nights', 'calendar_updated', 'has_availability',\n",
       "       'availability_30', 'availability_60', 'availability_90',\n",
       "       'availability_365', 'calendar_last_scraped', 'number_of_reviews',\n",
       "       'first_review', 'last_review', 'review_scores_rating',\n",
       "       'review_scores_accuracy', 'review_scores_cleanliness',\n",
       "       'review_scores_checkin', 'review_scores_communication',\n",
       "       'review_scores_location', 'review_scores_value', 'requires_license',\n",
       "       'license', 'jurisdiction_names', 'instant_bookable',\n",
       "       'cancellation_policy', 'require_guest_profile_picture',\n",
       "       'require_guest_phone_verification', 'calculated_host_listings_count',\n",
       "       'reviews_per_month'],\n",
       "      dtype='object')"
      ]
     },
     "execution_count": 158,
     "metadata": {},
     "output_type": "execute_result"
    }
   ],
   "source": [
    "df_list_cal.columns"
   ]
  },
  {
   "cell_type": "code",
   "execution_count": 159,
   "metadata": {},
   "outputs": [],
   "source": [
    "df_list_cal.rename({'price_x':'price'}, axis=1, inplace=True)"
   ]
  },
  {
   "cell_type": "code",
   "execution_count": 160,
   "metadata": {},
   "outputs": [
    {
     "data": {
      "text/plain": [
       "0.32938998399793334"
      ]
     },
     "execution_count": 160,
     "metadata": {},
     "output_type": "execute_result"
    }
   ],
   "source": [
    "(np.isnan(df_list_cal['price']).sum()/len(df_list_cal))"
   ]
  },
  {
   "cell_type": "code",
   "execution_count": 161,
   "metadata": {},
   "outputs": [],
   "source": [
    "df_list_cal['price'].fillna(df_list_cal['price'].mean(),inplace=True)"
   ]
  },
  {
   "cell_type": "markdown",
   "metadata": {},
   "source": [
    "**Analyze and Visualize**\n",
    "\n",
    "We all know visualizations is one of the most important leg of Data Science. For this case study, we will take up all the questions one by one and solve them using visualizations (box-plots, line charts, bar graphs etc)"
   ]
  },
  {
   "cell_type": "code",
   "execution_count": 162,
   "metadata": {
    "execution": {
     "iopub.execute_input": "2021-08-09T09:24:38.491297Z",
     "iopub.status.busy": "2021-08-09T09:24:38.490985Z",
     "iopub.status.idle": "2021-08-09T09:24:42.787274Z",
     "shell.execute_reply": "2021-08-09T09:24:42.786169Z",
     "shell.execute_reply.started": "2021-08-09T09:24:38.491268Z"
    }
   },
   "outputs": [
    {
     "name": "stderr",
     "output_type": "stream",
     "text": [
      "C:\\Users\\meetp\\anaconda3\\lib\\site-packages\\seaborn\\distributions.py:2551: FutureWarning: `distplot` is a deprecated function and will be removed in a future version. Please adapt your code to use either `displot` (a figure-level function with similar flexibility) or `histplot` (an axes-level function for histograms).\n",
      "  warnings.warn(msg, FutureWarning)\n"
     ]
    },
    {
     "data": {
      "text/plain": [
       "Text(0.5, 1.0, 'Price distribution Plot')"
      ]
     },
     "execution_count": 162,
     "metadata": {},
     "output_type": "execute_result"
    },
    {
     "data": {
      "image/png": "[encoded data removed]",
      "text/plain": [
       "<Figure size 720x360 with 1 Axes>"
      ]
     },
     "metadata": {
      "needs_background": "light"
     },
     "output_type": "display_data"
    }
   ],
   "source": [
    "plt.figure(figsize=(10,5))\n",
    "x=pd.Series(df_list_cal['price'], name = 'Price')\n",
    "sns.distplot(x,kde=True,label='Seattle')\n",
    "plt.title('Price distribution Plot',fontsize=25)"
   ]
  },
  {
   "cell_type": "markdown",
   "metadata": {},
   "source": [
    "We can see that most of the properties have an average price of 50-125 dollars"
   ]
  },
  {
   "cell_type": "markdown",
   "metadata": {},
   "source": [
    "***Q-1) Which category of property tends to have higher cost?***"
   ]
  },
  {
   "cell_type": "markdown",
   "metadata": {},
   "source": [
    "Let's use boxplot to do this analysis. Box plot graphically depicts numerical data groups through their quartiles. We can check the medians and min,max price value across property types."
   ]
  },
  {
   "cell_type": "code",
   "execution_count": 163,
   "metadata": {
    "execution": {
     "iopub.execute_input": "2021-08-09T09:24:42.788648Z",
     "iopub.status.busy": "2021-08-09T09:24:42.788379Z",
     "iopub.status.idle": "2021-08-09T09:24:43.455469Z",
     "shell.execute_reply": "2021-08-09T09:24:43.454711Z",
     "shell.execute_reply.started": "2021-08-09T09:24:42.788621Z"
    }
   },
   "outputs": [
    {
     "name": "stderr",
     "output_type": "stream",
     "text": [
      "C:\\Users\\meetp\\anaconda3\\lib\\site-packages\\seaborn\\_decorators.py:36: FutureWarning: Pass the following variables as keyword args: x, y. From version 0.12, the only valid positional argument will be `data`, and passing other arguments without an explicit keyword will result in an error or misinterpretation.\n",
      "  warnings.warn(\n"
     ]
    },
    {
     "data": {
      "text/plain": [
       "Text(0, 0.5, 'Price')"
      ]
     },
     "execution_count": 163,
     "metadata": {},
     "output_type": "execute_result"
    },
    {
     "data": {
      "image/png": "[encoded data removed]",
      "text/plain": [
       "<Figure size 1296x504 with 1 Axes>"
      ]
     },
     "metadata": {
      "needs_background": "light"
     },
     "output_type": "display_data"
    }
   ],
   "source": [
    "fig1,ax1 = plt.subplots(figsize=(18, 7))\n",
    "x=df_listings['property_type']\n",
    "y=df_listings['price']\n",
    "boxplot=sns.boxplot(x,y)\n",
    "boxplot.axes.set_title('Distribution of prices by Property Type',fontsize=25)\n",
    "boxplot.axes.set_xlabel('Property Type',fontsize=15)\n",
    "boxplot.axes.set_ylabel('Price',fontsize=15)"
   ]
  },
  {
   "cell_type": "markdown",
   "metadata": {},
   "source": [
    "***Boat Properties seem to have highest price median and Dorms have the lowest. Boat also seems to have highest price during peak seasons***\n",
    "\n",
    "Apartment, Bed & Breakfast seems to have optimal mean price of approx 115 and 100 dollars respectively. Dorm and Tent seems to have lowest mean prices."
   ]
  },
  {
   "cell_type": "markdown",
   "metadata": {},
   "source": [
    "**Q-2) What is the occupancy rate in 2016 across months?**"
   ]
  },
  {
   "cell_type": "code",
   "execution_count": 164,
   "metadata": {},
   "outputs": [],
   "source": [
    "def rename_value(x):\n",
    "    '''Rename_Value function is created to rename t/f to \n",
    "    Available/Unavailable respectively for better readability. '''\n",
    "    if (x=='t'):\n",
    "        return('Available')\n",
    "    else:\n",
    "        return('Unavailable')\n",
    "df_calendar['Availablity Status']=df_calendar['available'].apply(lambda x:rename_value(x))"
   ]
  },
  {
   "cell_type": "code",
   "execution_count": 165,
   "metadata": {
    "execution": {
     "iopub.execute_input": "2021-08-09T09:24:43.457091Z",
     "iopub.status.busy": "2021-08-09T09:24:43.456630Z",
     "iopub.status.idle": "2021-08-09T09:24:47.583366Z",
     "shell.execute_reply": "2021-08-09T09:24:47.582546Z",
     "shell.execute_reply.started": "2021-08-09T09:24:43.457059Z"
    }
   },
   "outputs": [
    {
     "data": {
      "text/plain": [
       "Text(0, 0.5, 'Year Month ')"
      ]
     },
     "execution_count": 165,
     "metadata": {},
     "output_type": "execute_result"
    },
    {
     "data": {
      "image/png": "[encoded data removed]",
      "text/plain": [
       "<Figure size 1296x504 with 1 Axes>"
      ]
     },
     "metadata": {
      "needs_background": "light"
     },
     "output_type": "display_data"
    }
   ],
   "source": [
    "#Create a countplot across month-year column \n",
    "fig1,ax1 = plt.subplots(figsize=(18, 7))\n",
    "x=df_calendar\n",
    "y=df_calendar['date_year_month']\n",
    "countplot=sns.countplot(data=x,y=y, hue='Availablity Status')\n",
    "countplot.axes.set_title('Property available status across months',fontsize=25)\n",
    "countplot.axes.set_xlabel('Number of Listings',fontsize=15)\n",
    "countplot.axes.set_ylabel('Year Month ',fontsize=15)"
   ]
  },
  {
   "cell_type": "markdown",
   "metadata": {},
   "source": [
    "***The above graph shows high occupancy rate in the following months: March,October,November & December***"
   ]
  },
  {
   "cell_type": "markdown",
   "metadata": {},
   "source": [
    "**Q-3) What factors is price dependent on?**"
   ]
  },
  {
   "cell_type": "markdown",
   "metadata": {},
   "source": [
    "Lets read through correlation matrix to understand the relation between price and other variables. Higher the correlation factor, more the dependency."
   ]
  },
  {
   "cell_type": "code",
   "execution_count": 166,
   "metadata": {
    "execution": {
     "iopub.execute_input": "2021-08-09T09:24:47.585301Z",
     "iopub.status.busy": "2021-08-09T09:24:47.584841Z",
     "iopub.status.idle": "2021-08-09T09:24:48.082768Z",
     "shell.execute_reply": "2021-08-09T09:24:48.082029Z",
     "shell.execute_reply.started": "2021-08-09T09:24:47.585271Z"
    }
   },
   "outputs": [
    {
     "data": {
      "text/plain": [
       "Text(0.5, 1.0, 'Correlation Matrix')"
      ]
     },
     "execution_count": 166,
     "metadata": {},
     "output_type": "execute_result"
    },
    {
     "data": {
      "image/png": "[encoded data removed]",
      "text/plain": [
       "<Figure size 1008x504 with 2 Axes>"
      ]
     },
     "metadata": {
      "needs_background": "light"
     },
     "output_type": "display_data"
    }
   ],
   "source": [
    "fig1,ax1 = plt.subplots(figsize=(14, 7))\n",
    "sns.heatmap(df_listings.corr())\n",
    "plt.title('Correlation Matrix',fontsize=25)"
   ]
  },
  {
   "cell_type": "code",
   "execution_count": 167,
   "metadata": {},
   "outputs": [
    {
     "data": {
      "text/plain": [
       "id                               -0.046289\n",
       "scrape_id                              NaN\n",
       "host_id                          -0.051332\n",
       "host_listings_count               0.093962\n",
       "host_total_listings_count         0.093962\n",
       "latitude                         -0.008904\n",
       "longitude                        -0.102420\n",
       "accommodates                      0.652218\n",
       "bathrooms                         0.516424\n",
       "bedrooms                          0.627720\n",
       "beds                              0.589525\n",
       "square_feet                       0.531752\n",
       "price                             1.000000\n",
       "guests_included                   0.392875\n",
       "minimum_nights                    0.017297\n",
       "maximum_nights                   -0.003336\n",
       "availability_30                  -0.037653\n",
       "availability_60                  -0.049336\n",
       "availability_90                  -0.058810\n",
       "availability_365                 -0.015550\n",
       "number_of_reviews                -0.124695\n",
       "review_scores_rating              0.055551\n",
       "review_scores_accuracy            0.019026\n",
       "review_scores_cleanliness         0.054357\n",
       "review_scores_checkin             0.007877\n",
       "review_scores_communication       0.012990\n",
       "review_scores_location            0.075069\n",
       "review_scores_value              -0.041776\n",
       "license                                NaN\n",
       "calculated_host_listings_count   -0.054092\n",
       "reviews_per_month                -0.218588\n",
       "Name: price, dtype: float64"
      ]
     },
     "execution_count": 167,
     "metadata": {},
     "output_type": "execute_result"
    }
   ],
   "source": [
    "df_listings.corr()['price']"
   ]
  },
  {
   "cell_type": "code",
   "execution_count": 168,
   "metadata": {
    "execution": {
     "iopub.execute_input": "2021-08-09T09:24:48.084148Z",
     "iopub.status.busy": "2021-08-09T09:24:48.083761Z",
     "iopub.status.idle": "2021-08-09T09:24:48.103639Z",
     "shell.execute_reply": "2021-08-09T09:24:48.102698Z",
     "shell.execute_reply.started": "2021-08-09T09:24:48.084118Z"
    }
   },
   "outputs": [
    {
     "data": {
      "text/plain": [
       "Text(0, 0.5, 'Features')"
      ]
     },
     "execution_count": 168,
     "metadata": {},
     "output_type": "execute_result"
    },
    {
     "data": {
      "image/png": "[encoded data removed]",
      "text/plain": [
       "<Figure size 1296x504 with 1 Axes>"
      ]
     },
     "metadata": {
      "needs_background": "light"
     },
     "output_type": "display_data"
    }
   ],
   "source": [
    "#As we can see not many factors are negatively correlated with price, hence we will just take positive correlation factor to analyze which is impacting price\n",
    "fig1,ax1 = plt.subplots(figsize=(18, 7))\n",
    "df_corr=df_listings.corr()['price'][(abs(df_listings.corr()['price'])>0.5 )==True]\n",
    "df_corr.plot(kind='barh')\n",
    "plt.title('Correlation factor of features with Price',fontsize=25)\n",
    "plt.xlabel('Correlation Factor',fontsize=15)\n",
    "plt.ylabel('Features',fontsize=15)"
   ]
  },
  {
   "cell_type": "markdown",
   "metadata": {},
   "source": [
    "**Price is directly correlated to bedrooms, bathrooms, accomodates and beds. Hence the price is higher for listings which have more bedrooms,bathrooms, beds etc.**"
   ]
  },
  {
   "cell_type": "markdown",
   "metadata": {},
   "source": [
    "**Q-4) Which time has the highest price?**"
   ]
  },
  {
   "cell_type": "markdown",
   "metadata": {},
   "source": [
    "To get which month/time has highest price, let just plot the mean price of every month."
   ]
  },
  {
   "cell_type": "code",
   "execution_count": 169,
   "metadata": {
    "execution": {
     "iopub.execute_input": "2021-08-09T09:24:48.105143Z",
     "iopub.status.busy": "2021-08-09T09:24:48.104872Z",
     "iopub.status.idle": "2021-08-09T09:24:48.439295Z",
     "shell.execute_reply": "2021-08-09T09:24:48.438351Z",
     "shell.execute_reply.started": "2021-08-09T09:24:48.105117Z"
    }
   },
   "outputs": [
    {
     "data": {
      "text/plain": [
       "Text(0, 0.5, 'Average Price')"
      ]
     },
     "execution_count": 169,
     "metadata": {},
     "output_type": "execute_result"
    },
    {
     "data": {
      "image/png": "[encoded data removed]",
      "text/plain": [
       "<Figure size 1296x504 with 1 Axes>"
      ]
     },
     "metadata": {
      "needs_background": "light"
     },
     "output_type": "display_data"
    }
   ],
   "source": [
    "fig1,ax1 = plt.subplots(figsize=(18, 7))\n",
    "df_list_cal.groupby(['date_year_month'])['price'].mean().plot()\n",
    "plt.title('Average Price across Year-month',fontsize=25)\n",
    "plt.xlabel('Year-Month',fontsize=15)\n",
    "plt.ylabel('Average Price',fontsize=15)"
   ]
  },
  {
   "cell_type": "code",
   "execution_count": 170,
   "metadata": {
    "execution": {
     "iopub.execute_input": "2021-08-09T09:24:48.440855Z",
     "iopub.status.busy": "2021-08-09T09:24:48.440560Z",
     "iopub.status.idle": "2021-08-09T09:24:48.579822Z",
     "shell.execute_reply": "2021-08-09T09:24:48.578893Z",
     "shell.execute_reply.started": "2021-08-09T09:24:48.440825Z"
    }
   },
   "outputs": [
    {
     "data": {
      "text/plain": [
       "date_year_month\n",
       "2016-01    128.870133\n",
       "2016-02    128.905102\n",
       "2016-03    131.349153\n",
       "2016-04    136.054321\n",
       "2016-05    139.021420\n",
       "2016-06    144.370582\n",
       "2016-07    146.817843\n",
       "2016-08    146.144582\n",
       "2016-09    141.526668\n",
       "2016-10    137.308997\n",
       "2016-11    136.334019\n",
       "2016-12    137.435089\n",
       "2017-01    137.152192\n",
       "Name: price, dtype: float64"
      ]
     },
     "execution_count": 170,
     "metadata": {},
     "output_type": "execute_result"
    }
   ],
   "source": [
    "df_list_cal.groupby(['date_year_month'])['price'].mean()"
   ]
  },
  {
   "cell_type": "markdown",
   "metadata": {},
   "source": [
    "***Price is highest on July,2016 and lowest in Januray,2016 .***"
   ]
  },
  {
   "cell_type": "markdown",
   "metadata": {},
   "source": [
    "**Q-5) How does price fluctuate from weekdays versus weekends?**"
   ]
  },
  {
   "cell_type": "markdown",
   "metadata": {},
   "source": [
    "First of all, create a new column which gives the day of the respective date. Then we can graphically see which day has higher price mean values. We can also define weekends and weekdays to study price distribution of weekend versus weekdays"
   ]
  },
  {
   "cell_type": "code",
   "execution_count": 171,
   "metadata": {
    "execution": {
     "iopub.execute_input": "2021-08-09T09:24:48.583323Z",
     "iopub.status.busy": "2021-08-09T09:24:48.583003Z",
     "iopub.status.idle": "2021-08-09T09:25:03.056801Z",
     "shell.execute_reply": "2021-08-09T09:25:03.055818Z",
     "shell.execute_reply.started": "2021-08-09T09:24:48.583291Z"
    }
   },
   "outputs": [
    {
     "data": {
      "text/html": [
       "<div>\n",
       "<style scoped>\n",
       "    .dataframe tbody tr th:only-of-type {\n",
       "        vertical-align: middle;\n",
       "    }\n",
       "\n",
       "    .dataframe tbody tr th {\n",
       "        vertical-align: top;\n",
       "    }\n",
       "\n",
       "    .dataframe thead th {\n",
       "        text-align: right;\n",
       "    }\n",
       "</style>\n",
       "<table border=\"1\" class=\"dataframe\">\n",
       "  <thead>\n",
       "    <tr style=\"text-align: right;\">\n",
       "      <th></th>\n",
       "      <th>listing_id</th>\n",
       "      <th>date</th>\n",
       "      <th>available</th>\n",
       "      <th>price</th>\n",
       "      <th>date_year_month</th>\n",
       "      <th>id</th>\n",
       "      <th>listing_url</th>\n",
       "      <th>scrape_id</th>\n",
       "      <th>last_scraped</th>\n",
       "      <th>name</th>\n",
       "      <th>...</th>\n",
       "      <th>requires_license</th>\n",
       "      <th>license</th>\n",
       "      <th>jurisdiction_names</th>\n",
       "      <th>instant_bookable</th>\n",
       "      <th>cancellation_policy</th>\n",
       "      <th>require_guest_profile_picture</th>\n",
       "      <th>require_guest_phone_verification</th>\n",
       "      <th>calculated_host_listings_count</th>\n",
       "      <th>reviews_per_month</th>\n",
       "      <th>day</th>\n",
       "    </tr>\n",
       "  </thead>\n",
       "  <tbody>\n",
       "    <tr>\n",
       "      <th>0</th>\n",
       "      <td>241032</td>\n",
       "      <td>2016-01-04</td>\n",
       "      <td>t</td>\n",
       "      <td>85.000000</td>\n",
       "      <td>2016-01</td>\n",
       "      <td>241032</td>\n",
       "      <td>https://www.airbnb.com/rooms/241032</td>\n",
       "      <td>20160104002432</td>\n",
       "      <td>2016-01-04</td>\n",
       "      <td>Stylish Queen Anne Apartment</td>\n",
       "      <td>...</td>\n",
       "      <td>f</td>\n",
       "      <td>NaN</td>\n",
       "      <td>WASHINGTON</td>\n",
       "      <td>f</td>\n",
       "      <td>moderate</td>\n",
       "      <td>f</td>\n",
       "      <td>f</td>\n",
       "      <td>2</td>\n",
       "      <td>4.07</td>\n",
       "      <td>Monday</td>\n",
       "    </tr>\n",
       "    <tr>\n",
       "      <th>1</th>\n",
       "      <td>241032</td>\n",
       "      <td>2016-01-05</td>\n",
       "      <td>t</td>\n",
       "      <td>85.000000</td>\n",
       "      <td>2016-01</td>\n",
       "      <td>241032</td>\n",
       "      <td>https://www.airbnb.com/rooms/241032</td>\n",
       "      <td>20160104002432</td>\n",
       "      <td>2016-01-04</td>\n",
       "      <td>Stylish Queen Anne Apartment</td>\n",
       "      <td>...</td>\n",
       "      <td>f</td>\n",
       "      <td>NaN</td>\n",
       "      <td>WASHINGTON</td>\n",
       "      <td>f</td>\n",
       "      <td>moderate</td>\n",
       "      <td>f</td>\n",
       "      <td>f</td>\n",
       "      <td>2</td>\n",
       "      <td>4.07</td>\n",
       "      <td>Tuesday</td>\n",
       "    </tr>\n",
       "    <tr>\n",
       "      <th>2</th>\n",
       "      <td>241032</td>\n",
       "      <td>2016-01-06</td>\n",
       "      <td>f</td>\n",
       "      <td>137.944859</td>\n",
       "      <td>2016-01</td>\n",
       "      <td>241032</td>\n",
       "      <td>https://www.airbnb.com/rooms/241032</td>\n",
       "      <td>20160104002432</td>\n",
       "      <td>2016-01-04</td>\n",
       "      <td>Stylish Queen Anne Apartment</td>\n",
       "      <td>...</td>\n",
       "      <td>f</td>\n",
       "      <td>NaN</td>\n",
       "      <td>WASHINGTON</td>\n",
       "      <td>f</td>\n",
       "      <td>moderate</td>\n",
       "      <td>f</td>\n",
       "      <td>f</td>\n",
       "      <td>2</td>\n",
       "      <td>4.07</td>\n",
       "      <td>Wednesday</td>\n",
       "    </tr>\n",
       "    <tr>\n",
       "      <th>3</th>\n",
       "      <td>241032</td>\n",
       "      <td>2016-01-07</td>\n",
       "      <td>f</td>\n",
       "      <td>137.944859</td>\n",
       "      <td>2016-01</td>\n",
       "      <td>241032</td>\n",
       "      <td>https://www.airbnb.com/rooms/241032</td>\n",
       "      <td>20160104002432</td>\n",
       "      <td>2016-01-04</td>\n",
       "      <td>Stylish Queen Anne Apartment</td>\n",
       "      <td>...</td>\n",
       "      <td>f</td>\n",
       "      <td>NaN</td>\n",
       "      <td>WASHINGTON</td>\n",
       "      <td>f</td>\n",
       "      <td>moderate</td>\n",
       "      <td>f</td>\n",
       "      <td>f</td>\n",
       "      <td>2</td>\n",
       "      <td>4.07</td>\n",
       "      <td>Thursday</td>\n",
       "    </tr>\n",
       "    <tr>\n",
       "      <th>4</th>\n",
       "      <td>241032</td>\n",
       "      <td>2016-01-08</td>\n",
       "      <td>f</td>\n",
       "      <td>137.944859</td>\n",
       "      <td>2016-01</td>\n",
       "      <td>241032</td>\n",
       "      <td>https://www.airbnb.com/rooms/241032</td>\n",
       "      <td>20160104002432</td>\n",
       "      <td>2016-01-04</td>\n",
       "      <td>Stylish Queen Anne Apartment</td>\n",
       "      <td>...</td>\n",
       "      <td>f</td>\n",
       "      <td>NaN</td>\n",
       "      <td>WASHINGTON</td>\n",
       "      <td>f</td>\n",
       "      <td>moderate</td>\n",
       "      <td>f</td>\n",
       "      <td>f</td>\n",
       "      <td>2</td>\n",
       "      <td>4.07</td>\n",
       "      <td>Friday</td>\n",
       "    </tr>\n",
       "  </tbody>\n",
       "</table>\n",
       "<p>5 rows × 98 columns</p>\n",
       "</div>"
      ],
      "text/plain": [
       "   listing_id       date available       price date_year_month      id  \\\n",
       "0      241032 2016-01-04         t   85.000000         2016-01  241032   \n",
       "1      241032 2016-01-05         t   85.000000         2016-01  241032   \n",
       "2      241032 2016-01-06         f  137.944859         2016-01  241032   \n",
       "3      241032 2016-01-07         f  137.944859         2016-01  241032   \n",
       "4      241032 2016-01-08         f  137.944859         2016-01  241032   \n",
       "\n",
       "                           listing_url       scrape_id last_scraped  \\\n",
       "0  https://www.airbnb.com/rooms/241032  20160104002432   2016-01-04   \n",
       "1  https://www.airbnb.com/rooms/241032  20160104002432   2016-01-04   \n",
       "2  https://www.airbnb.com/rooms/241032  20160104002432   2016-01-04   \n",
       "3  https://www.airbnb.com/rooms/241032  20160104002432   2016-01-04   \n",
       "4  https://www.airbnb.com/rooms/241032  20160104002432   2016-01-04   \n",
       "\n",
       "                           name  ... requires_license license  \\\n",
       "0  Stylish Queen Anne Apartment  ...                f     NaN   \n",
       "1  Stylish Queen Anne Apartment  ...                f     NaN   \n",
       "2  Stylish Queen Anne Apartment  ...                f     NaN   \n",
       "3  Stylish Queen Anne Apartment  ...                f     NaN   \n",
       "4  Stylish Queen Anne Apartment  ...                f     NaN   \n",
       "\n",
       "  jurisdiction_names instant_bookable cancellation_policy  \\\n",
       "0         WASHINGTON                f            moderate   \n",
       "1         WASHINGTON                f            moderate   \n",
       "2         WASHINGTON                f            moderate   \n",
       "3         WASHINGTON                f            moderate   \n",
       "4         WASHINGTON                f            moderate   \n",
       "\n",
       "  require_guest_profile_picture require_guest_phone_verification  \\\n",
       "0                             f                                f   \n",
       "1                             f                                f   \n",
       "2                             f                                f   \n",
       "3                             f                                f   \n",
       "4                             f                                f   \n",
       "\n",
       "  calculated_host_listings_count reviews_per_month        day  \n",
       "0                              2              4.07     Monday  \n",
       "1                              2              4.07    Tuesday  \n",
       "2                              2              4.07  Wednesday  \n",
       "3                              2              4.07   Thursday  \n",
       "4                              2              4.07     Friday  \n",
       "\n",
       "[5 rows x 98 columns]"
      ]
     },
     "execution_count": 171,
     "metadata": {},
     "output_type": "execute_result"
    }
   ],
   "source": [
    "#Create a new column day based on the date\n",
    "df_list_cal['day'] = df_list_cal['date'].apply(lambda x : calendar.day_name[x.weekday()])\n",
    "df_list_cal.head()"
   ]
  },
  {
   "cell_type": "code",
   "execution_count": 172,
   "metadata": {
    "execution": {
     "iopub.execute_input": "2021-08-09T09:25:03.058443Z",
     "iopub.status.busy": "2021-08-09T09:25:03.058136Z",
     "iopub.status.idle": "2021-08-09T09:25:03.366125Z",
     "shell.execute_reply": "2021-08-09T09:25:03.364983Z",
     "shell.execute_reply.started": "2021-08-09T09:25:03.058417Z"
    }
   },
   "outputs": [
    {
     "data": {
      "text/plain": [
       "Text(0, 0.5, 'Average Price')"
      ]
     },
     "execution_count": 172,
     "metadata": {},
     "output_type": "execute_result"
    },
    {
     "data": {
      "image/png": "[encoded data removed]",
      "text/plain": [
       "<Figure size 1296x504 with 1 Axes>"
      ]
     },
     "metadata": {
      "needs_background": "light"
     },
     "output_type": "display_data"
    }
   ],
   "source": [
    "#Plot graph of avg price across day column\n",
    "fig1,ax1 = plt.subplots(figsize=(18, 7))\n",
    "df_list_cal.groupby(['day'])['price'].mean().plot()\n",
    "plt.title('Average Price distribution across Days of Week',fontsize=25)\n",
    "plt.xlabel('Days of Week',fontsize=15)\n",
    "plt.ylabel('Average Price',fontsize=15)"
   ]
  },
  {
   "cell_type": "code",
   "execution_count": 173,
   "metadata": {
    "execution": {
     "iopub.execute_input": "2021-08-09T09:25:03.367795Z",
     "iopub.status.busy": "2021-08-09T09:25:03.367519Z",
     "iopub.status.idle": "2021-08-09T09:25:09.073600Z",
     "shell.execute_reply": "2021-08-09T09:25:09.072613Z",
     "shell.execute_reply.started": "2021-08-09T09:25:03.367758Z"
    }
   },
   "outputs": [
    {
     "data": {
      "text/plain": [
       "array(['Monday', 'Tuesday', 'Wednesday', 'Thursday', 'Friday', 'Saturday',\n",
       "       'Sunday'], dtype=object)"
      ]
     },
     "execution_count": 173,
     "metadata": {},
     "output_type": "execute_result"
    }
   ],
   "source": [
    "#Including only 2016 data and not 2017\n",
    "df_list_cal2= df_list_cal[df_list_cal['date']<'2017-01-01']\n",
    "df_list_cal2['day'].unique()"
   ]
  },
  {
   "cell_type": "code",
   "execution_count": 174,
   "metadata": {
    "execution": {
     "iopub.execute_input": "2021-08-09T09:25:09.075534Z",
     "iopub.status.busy": "2021-08-09T09:25:09.075060Z",
     "iopub.status.idle": "2021-08-09T09:25:09.235898Z",
     "shell.execute_reply": "2021-08-09T09:25:09.234881Z",
     "shell.execute_reply.started": "2021-08-09T09:25:09.075490Z"
    }
   },
   "outputs": [
    {
     "data": {
      "text/html": [
       "<div>\n",
       "<style scoped>\n",
       "    .dataframe tbody tr th:only-of-type {\n",
       "        vertical-align: middle;\n",
       "    }\n",
       "\n",
       "    .dataframe tbody tr th {\n",
       "        vertical-align: top;\n",
       "    }\n",
       "\n",
       "    .dataframe thead th {\n",
       "        text-align: right;\n",
       "    }\n",
       "</style>\n",
       "<table border=\"1\" class=\"dataframe\">\n",
       "  <thead>\n",
       "    <tr style=\"text-align: right;\">\n",
       "      <th></th>\n",
       "      <th>price</th>\n",
       "    </tr>\n",
       "    <tr>\n",
       "      <th>day</th>\n",
       "      <th></th>\n",
       "    </tr>\n",
       "  </thead>\n",
       "  <tbody>\n",
       "    <tr>\n",
       "      <th>Friday</th>\n",
       "      <td>141.350578</td>\n",
       "    </tr>\n",
       "    <tr>\n",
       "      <th>Monday</th>\n",
       "      <td>136.426394</td>\n",
       "    </tr>\n",
       "    <tr>\n",
       "      <th>Saturday</th>\n",
       "      <td>141.455448</td>\n",
       "    </tr>\n",
       "    <tr>\n",
       "      <th>Sunday</th>\n",
       "      <td>136.923179</td>\n",
       "    </tr>\n",
       "    <tr>\n",
       "      <th>Thursday</th>\n",
       "      <td>136.961123</td>\n",
       "    </tr>\n",
       "    <tr>\n",
       "      <th>Tuesday</th>\n",
       "      <td>136.240721</td>\n",
       "    </tr>\n",
       "    <tr>\n",
       "      <th>Wednesday</th>\n",
       "      <td>136.267407</td>\n",
       "    </tr>\n",
       "  </tbody>\n",
       "</table>\n",
       "</div>"
      ],
      "text/plain": [
       "                price\n",
       "day                  \n",
       "Friday     141.350578\n",
       "Monday     136.426394\n",
       "Saturday   141.455448\n",
       "Sunday     136.923179\n",
       "Thursday   136.961123\n",
       "Tuesday    136.240721\n",
       "Wednesday  136.267407"
      ]
     },
     "execution_count": 174,
     "metadata": {},
     "output_type": "execute_result"
    }
   ],
   "source": [
    "#Calculate avg prices across day\n",
    "df2= df_list_cal2.groupby(['day'])['price'].mean()\n",
    "df3= pd.DataFrame(df2)\n",
    "df3"
   ]
  },
  {
   "cell_type": "markdown",
   "metadata": {},
   "source": [
    "***Fridays and Saturdays see the highest price****"
   ]
  },
  {
   "cell_type": "code",
   "execution_count": 175,
   "metadata": {
    "execution": {
     "iopub.execute_input": "2021-08-09T09:25:09.240515Z",
     "iopub.status.busy": "2021-08-09T09:25:09.240162Z",
     "iopub.status.idle": "2021-08-09T09:25:09.245925Z",
     "shell.execute_reply": "2021-08-09T09:25:09.244697Z",
     "shell.execute_reply.started": "2021-08-09T09:25:09.240485Z"
    }
   },
   "outputs": [],
   "source": [
    "#Define these three days as weekends\n",
    "df3['Weekend']= df3.index.isin(['Friday','Saturday','Sunday'])"
   ]
  },
  {
   "cell_type": "code",
   "execution_count": 176,
   "metadata": {
    "execution": {
     "iopub.execute_input": "2021-08-09T09:25:09.248450Z",
     "iopub.status.busy": "2021-08-09T09:25:09.247964Z",
     "iopub.status.idle": "2021-08-09T09:25:09.594180Z",
     "shell.execute_reply": "2021-08-09T09:25:09.593148Z",
     "shell.execute_reply.started": "2021-08-09T09:25:09.248402Z"
    }
   },
   "outputs": [
    {
     "data": {
      "text/plain": [
       "Text(0, 0.5, 'Average Price')"
      ]
     },
     "execution_count": 176,
     "metadata": {},
     "output_type": "execute_result"
    },
    {
     "data": {
      "image/png": "[encoded data removed]",
      "text/plain": [
       "<Figure size 1296x504 with 1 Axes>"
      ]
     },
     "metadata": {
      "needs_background": "light"
     },
     "output_type": "display_data"
    }
   ],
   "source": [
    "#Plot barplot to visualise weekdays against weekends\n",
    "fig1,ax1 = plt.subplots(figsize=(18, 7))\n",
    "sns.barplot(data=df3, x = df3.index, y=df3.price, order=['Monday','Tuesday','Wednesday','Thursday','Friday','Saturday','Sunday'],color='Salmon')\n",
    "plt.title('Average Price distribution across Days of Week',fontsize=25)\n",
    "plt.xlabel('Days of Week',fontsize=15)\n",
    "plt.ylabel('Average Price',fontsize=15)"
   ]
  },
  {
   "cell_type": "markdown",
   "metadata": {},
   "source": [
    "***Its clearly visible Friday, Saturday has higher avg price***"
   ]
  },
  {
   "cell_type": "markdown",
   "metadata": {},
   "source": [
    "**Q-6) Which holiday has the highest price rate?**"
   ]
  },
  {
   "cell_type": "markdown",
   "metadata": {},
   "source": [
    "Lets import US holiday calendar using USFederalHolidayCalendar library.Then check the price mean of holidays"
   ]
  },
  {
   "cell_type": "code",
   "execution_count": 177,
   "metadata": {
    "execution": {
     "iopub.execute_input": "2021-08-09T09:25:09.595706Z",
     "iopub.status.busy": "2021-08-09T09:25:09.595446Z",
     "iopub.status.idle": "2021-08-09T09:25:09.599729Z",
     "shell.execute_reply": "2021-08-09T09:25:09.598729Z",
     "shell.execute_reply.started": "2021-08-09T09:25:09.595681Z"
    }
   },
   "outputs": [],
   "source": [
    "#Import US Federal Holiday Calendar\n",
    "from pandas.tseries.holiday import USFederalHolidayCalendar as calendar"
   ]
  },
  {
   "cell_type": "code",
   "execution_count": 178,
   "metadata": {
    "execution": {
     "iopub.execute_input": "2021-08-09T09:25:09.601735Z",
     "iopub.status.busy": "2021-08-09T09:25:09.601332Z",
     "iopub.status.idle": "2021-08-09T09:25:09.882086Z",
     "shell.execute_reply": "2021-08-09T09:25:09.881174Z",
     "shell.execute_reply.started": "2021-08-09T09:25:09.601694Z"
    }
   },
   "outputs": [
    {
     "name": "stderr",
     "output_type": "stream",
     "text": [
      "<ipython-input-178-0f1bf9f10b79>:5: SettingWithCopyWarning: \n",
      "A value is trying to be set on a copy of a slice from a DataFrame.\n",
      "Try using .loc[row_indexer,col_indexer] = value instead\n",
      "\n",
      "See the caveats in the documentation: https://pandas.pydata.org/pandas-docs/stable/user_guide/indexing.html#returning-a-view-versus-a-copy\n",
      "  df_list_cal2['Holiday'] = df_list_cal2['date'].isin(holidays)\n"
     ]
    },
    {
     "data": {
      "text/html": [
       "<div>\n",
       "<style scoped>\n",
       "    .dataframe tbody tr th:only-of-type {\n",
       "        vertical-align: middle;\n",
       "    }\n",
       "\n",
       "    .dataframe tbody tr th {\n",
       "        vertical-align: top;\n",
       "    }\n",
       "\n",
       "    .dataframe thead th {\n",
       "        text-align: right;\n",
       "    }\n",
       "</style>\n",
       "<table border=\"1\" class=\"dataframe\">\n",
       "  <thead>\n",
       "    <tr style=\"text-align: right;\">\n",
       "      <th></th>\n",
       "      <th>listing_id</th>\n",
       "      <th>date</th>\n",
       "      <th>available</th>\n",
       "      <th>price</th>\n",
       "      <th>date_year_month</th>\n",
       "      <th>id</th>\n",
       "      <th>listing_url</th>\n",
       "      <th>scrape_id</th>\n",
       "      <th>last_scraped</th>\n",
       "      <th>name</th>\n",
       "      <th>...</th>\n",
       "      <th>license</th>\n",
       "      <th>jurisdiction_names</th>\n",
       "      <th>instant_bookable</th>\n",
       "      <th>cancellation_policy</th>\n",
       "      <th>require_guest_profile_picture</th>\n",
       "      <th>require_guest_phone_verification</th>\n",
       "      <th>calculated_host_listings_count</th>\n",
       "      <th>reviews_per_month</th>\n",
       "      <th>day</th>\n",
       "      <th>Holiday</th>\n",
       "    </tr>\n",
       "  </thead>\n",
       "  <tbody>\n",
       "    <tr>\n",
       "      <th>14</th>\n",
       "      <td>241032</td>\n",
       "      <td>2016-01-18</td>\n",
       "      <td>t</td>\n",
       "      <td>85.000000</td>\n",
       "      <td>2016-01</td>\n",
       "      <td>241032</td>\n",
       "      <td>https://www.airbnb.com/rooms/241032</td>\n",
       "      <td>20160104002432</td>\n",
       "      <td>2016-01-04</td>\n",
       "      <td>Stylish Queen Anne Apartment</td>\n",
       "      <td>...</td>\n",
       "      <td>NaN</td>\n",
       "      <td>WASHINGTON</td>\n",
       "      <td>f</td>\n",
       "      <td>moderate</td>\n",
       "      <td>f</td>\n",
       "      <td>f</td>\n",
       "      <td>2</td>\n",
       "      <td>4.07</td>\n",
       "      <td>Monday</td>\n",
       "      <td>True</td>\n",
       "    </tr>\n",
       "    <tr>\n",
       "      <th>42</th>\n",
       "      <td>241032</td>\n",
       "      <td>2016-02-15</td>\n",
       "      <td>t</td>\n",
       "      <td>85.000000</td>\n",
       "      <td>2016-02</td>\n",
       "      <td>241032</td>\n",
       "      <td>https://www.airbnb.com/rooms/241032</td>\n",
       "      <td>20160104002432</td>\n",
       "      <td>2016-01-04</td>\n",
       "      <td>Stylish Queen Anne Apartment</td>\n",
       "      <td>...</td>\n",
       "      <td>NaN</td>\n",
       "      <td>WASHINGTON</td>\n",
       "      <td>f</td>\n",
       "      <td>moderate</td>\n",
       "      <td>f</td>\n",
       "      <td>f</td>\n",
       "      <td>2</td>\n",
       "      <td>4.07</td>\n",
       "      <td>Monday</td>\n",
       "      <td>True</td>\n",
       "    </tr>\n",
       "    <tr>\n",
       "      <th>147</th>\n",
       "      <td>241032</td>\n",
       "      <td>2016-05-30</td>\n",
       "      <td>t</td>\n",
       "      <td>85.000000</td>\n",
       "      <td>2016-05</td>\n",
       "      <td>241032</td>\n",
       "      <td>https://www.airbnb.com/rooms/241032</td>\n",
       "      <td>20160104002432</td>\n",
       "      <td>2016-01-04</td>\n",
       "      <td>Stylish Queen Anne Apartment</td>\n",
       "      <td>...</td>\n",
       "      <td>NaN</td>\n",
       "      <td>WASHINGTON</td>\n",
       "      <td>f</td>\n",
       "      <td>moderate</td>\n",
       "      <td>f</td>\n",
       "      <td>f</td>\n",
       "      <td>2</td>\n",
       "      <td>4.07</td>\n",
       "      <td>Monday</td>\n",
       "      <td>True</td>\n",
       "    </tr>\n",
       "    <tr>\n",
       "      <th>182</th>\n",
       "      <td>241032</td>\n",
       "      <td>2016-07-04</td>\n",
       "      <td>t</td>\n",
       "      <td>85.000000</td>\n",
       "      <td>2016-07</td>\n",
       "      <td>241032</td>\n",
       "      <td>https://www.airbnb.com/rooms/241032</td>\n",
       "      <td>20160104002432</td>\n",
       "      <td>2016-01-04</td>\n",
       "      <td>Stylish Queen Anne Apartment</td>\n",
       "      <td>...</td>\n",
       "      <td>NaN</td>\n",
       "      <td>WASHINGTON</td>\n",
       "      <td>f</td>\n",
       "      <td>moderate</td>\n",
       "      <td>f</td>\n",
       "      <td>f</td>\n",
       "      <td>2</td>\n",
       "      <td>4.07</td>\n",
       "      <td>Monday</td>\n",
       "      <td>True</td>\n",
       "    </tr>\n",
       "    <tr>\n",
       "      <th>245</th>\n",
       "      <td>241032</td>\n",
       "      <td>2016-09-05</td>\n",
       "      <td>t</td>\n",
       "      <td>85.000000</td>\n",
       "      <td>2016-09</td>\n",
       "      <td>241032</td>\n",
       "      <td>https://www.airbnb.com/rooms/241032</td>\n",
       "      <td>20160104002432</td>\n",
       "      <td>2016-01-04</td>\n",
       "      <td>Stylish Queen Anne Apartment</td>\n",
       "      <td>...</td>\n",
       "      <td>NaN</td>\n",
       "      <td>WASHINGTON</td>\n",
       "      <td>f</td>\n",
       "      <td>moderate</td>\n",
       "      <td>f</td>\n",
       "      <td>f</td>\n",
       "      <td>2</td>\n",
       "      <td>4.07</td>\n",
       "      <td>Monday</td>\n",
       "      <td>True</td>\n",
       "    </tr>\n",
       "    <tr>\n",
       "      <th>...</th>\n",
       "      <td>...</td>\n",
       "      <td>...</td>\n",
       "      <td>...</td>\n",
       "      <td>...</td>\n",
       "      <td>...</td>\n",
       "      <td>...</td>\n",
       "      <td>...</td>\n",
       "      <td>...</td>\n",
       "      <td>...</td>\n",
       "      <td>...</td>\n",
       "      <td>...</td>\n",
       "      <td>...</td>\n",
       "      <td>...</td>\n",
       "      <td>...</td>\n",
       "      <td>...</td>\n",
       "      <td>...</td>\n",
       "      <td>...</td>\n",
       "      <td>...</td>\n",
       "      <td>...</td>\n",
       "      <td>...</td>\n",
       "      <td>...</td>\n",
       "    </tr>\n",
       "    <tr>\n",
       "      <th>1393450</th>\n",
       "      <td>10208623</td>\n",
       "      <td>2016-09-05</td>\n",
       "      <td>f</td>\n",
       "      <td>137.944859</td>\n",
       "      <td>2016-09</td>\n",
       "      <td>10208623</td>\n",
       "      <td>https://www.airbnb.com/rooms/10208623</td>\n",
       "      <td>20160104002432</td>\n",
       "      <td>2016-01-04</td>\n",
       "      <td>Large Lakefront Apartment</td>\n",
       "      <td>...</td>\n",
       "      <td>NaN</td>\n",
       "      <td>WASHINGTON</td>\n",
       "      <td>f</td>\n",
       "      <td>flexible</td>\n",
       "      <td>f</td>\n",
       "      <td>f</td>\n",
       "      <td>1</td>\n",
       "      <td>NaN</td>\n",
       "      <td>Monday</td>\n",
       "      <td>True</td>\n",
       "    </tr>\n",
       "    <tr>\n",
       "      <th>1393485</th>\n",
       "      <td>10208623</td>\n",
       "      <td>2016-10-10</td>\n",
       "      <td>f</td>\n",
       "      <td>137.944859</td>\n",
       "      <td>2016-10</td>\n",
       "      <td>10208623</td>\n",
       "      <td>https://www.airbnb.com/rooms/10208623</td>\n",
       "      <td>20160104002432</td>\n",
       "      <td>2016-01-04</td>\n",
       "      <td>Large Lakefront Apartment</td>\n",
       "      <td>...</td>\n",
       "      <td>NaN</td>\n",
       "      <td>WASHINGTON</td>\n",
       "      <td>f</td>\n",
       "      <td>flexible</td>\n",
       "      <td>f</td>\n",
       "      <td>f</td>\n",
       "      <td>1</td>\n",
       "      <td>NaN</td>\n",
       "      <td>Monday</td>\n",
       "      <td>True</td>\n",
       "    </tr>\n",
       "    <tr>\n",
       "      <th>1393517</th>\n",
       "      <td>10208623</td>\n",
       "      <td>2016-11-11</td>\n",
       "      <td>f</td>\n",
       "      <td>137.944859</td>\n",
       "      <td>2016-11</td>\n",
       "      <td>10208623</td>\n",
       "      <td>https://www.airbnb.com/rooms/10208623</td>\n",
       "      <td>20160104002432</td>\n",
       "      <td>2016-01-04</td>\n",
       "      <td>Large Lakefront Apartment</td>\n",
       "      <td>...</td>\n",
       "      <td>NaN</td>\n",
       "      <td>WASHINGTON</td>\n",
       "      <td>f</td>\n",
       "      <td>flexible</td>\n",
       "      <td>f</td>\n",
       "      <td>f</td>\n",
       "      <td>1</td>\n",
       "      <td>NaN</td>\n",
       "      <td>Friday</td>\n",
       "      <td>True</td>\n",
       "    </tr>\n",
       "    <tr>\n",
       "      <th>1393530</th>\n",
       "      <td>10208623</td>\n",
       "      <td>2016-11-24</td>\n",
       "      <td>f</td>\n",
       "      <td>137.944859</td>\n",
       "      <td>2016-11</td>\n",
       "      <td>10208623</td>\n",
       "      <td>https://www.airbnb.com/rooms/10208623</td>\n",
       "      <td>20160104002432</td>\n",
       "      <td>2016-01-04</td>\n",
       "      <td>Large Lakefront Apartment</td>\n",
       "      <td>...</td>\n",
       "      <td>NaN</td>\n",
       "      <td>WASHINGTON</td>\n",
       "      <td>f</td>\n",
       "      <td>flexible</td>\n",
       "      <td>f</td>\n",
       "      <td>f</td>\n",
       "      <td>1</td>\n",
       "      <td>NaN</td>\n",
       "      <td>Thursday</td>\n",
       "      <td>True</td>\n",
       "    </tr>\n",
       "    <tr>\n",
       "      <th>1393562</th>\n",
       "      <td>10208623</td>\n",
       "      <td>2016-12-26</td>\n",
       "      <td>f</td>\n",
       "      <td>137.944859</td>\n",
       "      <td>2016-12</td>\n",
       "      <td>10208623</td>\n",
       "      <td>https://www.airbnb.com/rooms/10208623</td>\n",
       "      <td>20160104002432</td>\n",
       "      <td>2016-01-04</td>\n",
       "      <td>Large Lakefront Apartment</td>\n",
       "      <td>...</td>\n",
       "      <td>NaN</td>\n",
       "      <td>WASHINGTON</td>\n",
       "      <td>f</td>\n",
       "      <td>flexible</td>\n",
       "      <td>f</td>\n",
       "      <td>f</td>\n",
       "      <td>1</td>\n",
       "      <td>NaN</td>\n",
       "      <td>Monday</td>\n",
       "      <td>True</td>\n",
       "    </tr>\n",
       "  </tbody>\n",
       "</table>\n",
       "<p>34362 rows × 99 columns</p>\n",
       "</div>"
      ],
      "text/plain": [
       "         listing_id       date available       price date_year_month  \\\n",
       "14           241032 2016-01-18         t   85.000000         2016-01   \n",
       "42           241032 2016-02-15         t   85.000000         2016-02   \n",
       "147          241032 2016-05-30         t   85.000000         2016-05   \n",
       "182          241032 2016-07-04         t   85.000000         2016-07   \n",
       "245          241032 2016-09-05         t   85.000000         2016-09   \n",
       "...             ...        ...       ...         ...             ...   \n",
       "1393450    10208623 2016-09-05         f  137.944859         2016-09   \n",
       "1393485    10208623 2016-10-10         f  137.944859         2016-10   \n",
       "1393517    10208623 2016-11-11         f  137.944859         2016-11   \n",
       "1393530    10208623 2016-11-24         f  137.944859         2016-11   \n",
       "1393562    10208623 2016-12-26         f  137.944859         2016-12   \n",
       "\n",
       "               id                            listing_url       scrape_id  \\\n",
       "14         241032    https://www.airbnb.com/rooms/241032  20160104002432   \n",
       "42         241032    https://www.airbnb.com/rooms/241032  20160104002432   \n",
       "147        241032    https://www.airbnb.com/rooms/241032  20160104002432   \n",
       "182        241032    https://www.airbnb.com/rooms/241032  20160104002432   \n",
       "245        241032    https://www.airbnb.com/rooms/241032  20160104002432   \n",
       "...           ...                                    ...             ...   \n",
       "1393450  10208623  https://www.airbnb.com/rooms/10208623  20160104002432   \n",
       "1393485  10208623  https://www.airbnb.com/rooms/10208623  20160104002432   \n",
       "1393517  10208623  https://www.airbnb.com/rooms/10208623  20160104002432   \n",
       "1393530  10208623  https://www.airbnb.com/rooms/10208623  20160104002432   \n",
       "1393562  10208623  https://www.airbnb.com/rooms/10208623  20160104002432   \n",
       "\n",
       "        last_scraped                          name  ... license  \\\n",
       "14        2016-01-04  Stylish Queen Anne Apartment  ...     NaN   \n",
       "42        2016-01-04  Stylish Queen Anne Apartment  ...     NaN   \n",
       "147       2016-01-04  Stylish Queen Anne Apartment  ...     NaN   \n",
       "182       2016-01-04  Stylish Queen Anne Apartment  ...     NaN   \n",
       "245       2016-01-04  Stylish Queen Anne Apartment  ...     NaN   \n",
       "...              ...                           ...  ...     ...   \n",
       "1393450   2016-01-04     Large Lakefront Apartment  ...     NaN   \n",
       "1393485   2016-01-04     Large Lakefront Apartment  ...     NaN   \n",
       "1393517   2016-01-04     Large Lakefront Apartment  ...     NaN   \n",
       "1393530   2016-01-04     Large Lakefront Apartment  ...     NaN   \n",
       "1393562   2016-01-04     Large Lakefront Apartment  ...     NaN   \n",
       "\n",
       "        jurisdiction_names instant_bookable cancellation_policy  \\\n",
       "14              WASHINGTON                f            moderate   \n",
       "42              WASHINGTON                f            moderate   \n",
       "147             WASHINGTON                f            moderate   \n",
       "182             WASHINGTON                f            moderate   \n",
       "245             WASHINGTON                f            moderate   \n",
       "...                    ...              ...                 ...   \n",
       "1393450         WASHINGTON                f            flexible   \n",
       "1393485         WASHINGTON                f            flexible   \n",
       "1393517         WASHINGTON                f            flexible   \n",
       "1393530         WASHINGTON                f            flexible   \n",
       "1393562         WASHINGTON                f            flexible   \n",
       "\n",
       "        require_guest_profile_picture require_guest_phone_verification  \\\n",
       "14                                  f                                f   \n",
       "42                                  f                                f   \n",
       "147                                 f                                f   \n",
       "182                                 f                                f   \n",
       "245                                 f                                f   \n",
       "...                               ...                              ...   \n",
       "1393450                             f                                f   \n",
       "1393485                             f                                f   \n",
       "1393517                             f                                f   \n",
       "1393530                             f                                f   \n",
       "1393562                             f                                f   \n",
       "\n",
       "        calculated_host_listings_count reviews_per_month       day Holiday  \n",
       "14                                   2              4.07    Monday    True  \n",
       "42                                   2              4.07    Monday    True  \n",
       "147                                  2              4.07    Monday    True  \n",
       "182                                  2              4.07    Monday    True  \n",
       "245                                  2              4.07    Monday    True  \n",
       "...                                ...               ...       ...     ...  \n",
       "1393450                              1               NaN    Monday    True  \n",
       "1393485                              1               NaN    Monday    True  \n",
       "1393517                              1               NaN    Friday    True  \n",
       "1393530                              1               NaN  Thursday    True  \n",
       "1393562                              1               NaN    Monday    True  \n",
       "\n",
       "[34362 rows x 99 columns]"
      ]
     },
     "execution_count": 178,
     "metadata": {},
     "output_type": "execute_result"
    }
   ],
   "source": [
    "cal = calendar()\n",
    "dr = pd.date_range(start='2016-01-01', end='2016-12-31')\n",
    "holidays = cal.holidays(start=dr.min(), end=dr.max())\n",
    "\n",
    "df_list_cal2['Holiday'] = df_list_cal2['date'].isin(holidays)\n",
    "df_list_cal2[df_list_cal2['Holiday']==True]"
   ]
  },
  {
   "cell_type": "code",
   "execution_count": 179,
   "metadata": {
    "execution": {
     "iopub.execute_input": "2021-08-09T09:25:09.884030Z",
     "iopub.status.busy": "2021-08-09T09:25:09.883636Z",
     "iopub.status.idle": "2021-08-09T09:25:10.237459Z",
     "shell.execute_reply": "2021-08-09T09:25:10.236323Z",
     "shell.execute_reply.started": "2021-08-09T09:25:09.883986Z"
    }
   },
   "outputs": [
    {
     "data": {
      "text/plain": [
       "Text(0, 0.5, 'Average Price')"
      ]
     },
     "execution_count": 179,
     "metadata": {},
     "output_type": "execute_result"
    },
    {
     "data": {
      "image/png": "[encoded data removed]",
      "text/plain": [
       "<Figure size 1296x504 with 1 Axes>"
      ]
     },
     "metadata": {
      "needs_background": "light"
     },
     "output_type": "display_data"
    }
   ],
   "source": [
    "#Plot graph only for holidays\n",
    "fig1,ax1 = plt.subplots(figsize=(18, 7))\n",
    "df3=df_list_cal2[df_list_cal2['Holiday']==True]\n",
    "df3.groupby(['date_year_month']).price.mean().plot()\n",
    "plt.title('Average Price across holiday months of 2016 year',fontsize=25)\n",
    "plt.xlabel('Holiday Months',fontsize=15)\n",
    "plt.ylabel('Average Price',fontsize=15)"
   ]
  },
  {
   "cell_type": "code",
   "execution_count": 180,
   "metadata": {
    "execution": {
     "iopub.execute_input": "2021-08-09T09:25:10.239294Z",
     "iopub.status.busy": "2021-08-09T09:25:10.238879Z",
     "iopub.status.idle": "2021-08-09T09:25:10.260545Z",
     "shell.execute_reply": "2021-08-09T09:25:10.259385Z",
     "shell.execute_reply.started": "2021-08-09T09:25:10.239247Z"
    }
   },
   "outputs": [
    {
     "data": {
      "text/plain": [
       "date_year_month\n",
       "2016-01    128.476032\n",
       "2016-02    129.604747\n",
       "2016-05    141.523023\n",
       "2016-07    146.302046\n",
       "2016-09    140.705016\n",
       "2016-10    135.890936\n",
       "2016-11    138.021770\n",
       "2016-12    137.908480\n",
       "Name: price, dtype: float64"
      ]
     },
     "execution_count": 180,
     "metadata": {},
     "output_type": "execute_result"
    }
   ],
   "source": [
    "df3.groupby(['date_year_month']).price.mean()\n"
   ]
  },
  {
   "cell_type": "markdown",
   "metadata": {},
   "source": [
    "***July holiday has the highest price, owing to Independence day which is on 4th July***"
   ]
  },
  {
   "cell_type": "markdown",
   "metadata": {},
   "source": [
    "**Conclusion**\n",
    "\n",
    "Based on our analysis so far we conclude that July month sees the highest price while Jan has the lowest dip. After doing a deep dive into it, we understand 4th July has the highest pricing compared to all the other holidays, owing to Independence Day. \n",
    "\n",
    "Boat is one of the most expensive properties offerings. Weekends also sees higher prices compared to weekdays and more the number of beds,bedrooms,bathrooms, higher the price goes.\n",
    "\n",
    "Now when you plan the next trip, you can take above factors into consideration to get the best bet."
   ]
  }
 ],
 "metadata": {
  "kernelspec": {
   "display_name": "Python 3",
   "language": "python",
   "name": "python3"
  },
  "language_info": {
   "codemirror_mode": {
    "name": "ipython",
    "version": 3
   },
   "file_extension": ".py",
   "mimetype": "text/x-python",
   "name": "python",
   "nbconvert_exporter": "python",
   "pygments_lexer": "ipython3",
   "version": "3.8.5"
  }
 },
 "nbformat": 4,
 "nbformat_minor": 4
}
